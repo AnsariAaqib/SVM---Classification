{
 "cells": [
  {
   "cell_type": "markdown",
   "id": "48105209",
   "metadata": {},
   "source": [
    "# SVM - Classification (Binary)"
   ]
  },
  {
   "cell_type": "markdown",
   "id": "6684d932",
   "metadata": {},
   "source": [
    "# Libraries"
   ]
  },
  {
   "cell_type": "code",
   "execution_count": 1,
   "id": "c2a6f111",
   "metadata": {},
   "outputs": [],
   "source": [
    "import pandas as pd"
   ]
  },
  {
   "cell_type": "code",
   "execution_count": 2,
   "id": "bc8430fa",
   "metadata": {},
   "outputs": [],
   "source": [
    "import numpy as np"
   ]
  },
  {
   "cell_type": "code",
   "execution_count": 3,
   "id": "d09e314e",
   "metadata": {},
   "outputs": [],
   "source": [
    "from sklearn import preprocessing, svm"
   ]
  },
  {
   "cell_type": "code",
   "execution_count": 4,
   "id": "920ec555",
   "metadata": {},
   "outputs": [],
   "source": [
    "from sklearn.model_selection import train_test_split,GridSearchCV"
   ]
  },
  {
   "cell_type": "code",
   "execution_count": 5,
   "id": "0f2c8e2e",
   "metadata": {},
   "outputs": [],
   "source": [
    "from sklearn.metrics import classification_report,accuracy_score"
   ]
  },
  {
   "cell_type": "markdown",
   "id": "8a3e6cbc",
   "metadata": {},
   "source": [
    "# Read the file"
   ]
  },
  {
   "cell_type": "code",
   "execution_count": 6,
   "id": "ee268128",
   "metadata": {},
   "outputs": [],
   "source": [
    "path = \"C:/Users/Ansari Aaquib/Downloads/drive-download-20210519T143124Z-001/SVM/diab.csv\""
   ]
  },
  {
   "cell_type": "code",
   "execution_count": 7,
   "id": "a4362beb",
   "metadata": {},
   "outputs": [],
   "source": [
    "db = pd.read_csv(path)"
   ]
  },
  {
   "cell_type": "code",
   "execution_count": 8,
   "id": "5836e905",
   "metadata": {},
   "outputs": [
    {
     "data": {
      "text/html": [
       "<div>\n",
       "<style scoped>\n",
       "    .dataframe tbody tr th:only-of-type {\n",
       "        vertical-align: middle;\n",
       "    }\n",
       "\n",
       "    .dataframe tbody tr th {\n",
       "        vertical-align: top;\n",
       "    }\n",
       "\n",
       "    .dataframe thead th {\n",
       "        text-align: right;\n",
       "    }\n",
       "</style>\n",
       "<table border=\"1\" class=\"dataframe\">\n",
       "  <thead>\n",
       "    <tr style=\"text-align: right;\">\n",
       "      <th></th>\n",
       "      <th>no_preg</th>\n",
       "      <th>pg_conc</th>\n",
       "      <th>dia_bp</th>\n",
       "      <th>tri_sf_th</th>\n",
       "      <th>ser_ins</th>\n",
       "      <th>bmi</th>\n",
       "      <th>diab_ped</th>\n",
       "      <th>age</th>\n",
       "      <th>class_val</th>\n",
       "      <th>class</th>\n",
       "    </tr>\n",
       "  </thead>\n",
       "  <tbody>\n",
       "    <tr>\n",
       "      <th>0</th>\n",
       "      <td>6</td>\n",
       "      <td>148</td>\n",
       "      <td>72</td>\n",
       "      <td>35</td>\n",
       "      <td>0</td>\n",
       "      <td>33.6</td>\n",
       "      <td>0.627</td>\n",
       "      <td>50</td>\n",
       "      <td>positive</td>\n",
       "      <td>1</td>\n",
       "    </tr>\n",
       "    <tr>\n",
       "      <th>1</th>\n",
       "      <td>1</td>\n",
       "      <td>85</td>\n",
       "      <td>66</td>\n",
       "      <td>29</td>\n",
       "      <td>0</td>\n",
       "      <td>26.6</td>\n",
       "      <td>0.351</td>\n",
       "      <td>31</td>\n",
       "      <td>negative</td>\n",
       "      <td>0</td>\n",
       "    </tr>\n",
       "    <tr>\n",
       "      <th>2</th>\n",
       "      <td>8</td>\n",
       "      <td>183</td>\n",
       "      <td>64</td>\n",
       "      <td>0</td>\n",
       "      <td>0</td>\n",
       "      <td>23.3</td>\n",
       "      <td>0.672</td>\n",
       "      <td>32</td>\n",
       "      <td>positive</td>\n",
       "      <td>1</td>\n",
       "    </tr>\n",
       "    <tr>\n",
       "      <th>3</th>\n",
       "      <td>1</td>\n",
       "      <td>89</td>\n",
       "      <td>66</td>\n",
       "      <td>23</td>\n",
       "      <td>94</td>\n",
       "      <td>28.1</td>\n",
       "      <td>0.167</td>\n",
       "      <td>21</td>\n",
       "      <td>negative</td>\n",
       "      <td>0</td>\n",
       "    </tr>\n",
       "    <tr>\n",
       "      <th>4</th>\n",
       "      <td>0</td>\n",
       "      <td>137</td>\n",
       "      <td>40</td>\n",
       "      <td>35</td>\n",
       "      <td>168</td>\n",
       "      <td>43.1</td>\n",
       "      <td>2.288</td>\n",
       "      <td>33</td>\n",
       "      <td>positive</td>\n",
       "      <td>1</td>\n",
       "    </tr>\n",
       "  </tbody>\n",
       "</table>\n",
       "</div>"
      ],
      "text/plain": [
       "   no_preg  pg_conc  dia_bp  tri_sf_th  ser_ins   bmi  diab_ped  age  \\\n",
       "0        6      148      72         35        0  33.6     0.627   50   \n",
       "1        1       85      66         29        0  26.6     0.351   31   \n",
       "2        8      183      64          0        0  23.3     0.672   32   \n",
       "3        1       89      66         23       94  28.1     0.167   21   \n",
       "4        0      137      40         35      168  43.1     2.288   33   \n",
       "\n",
       "  class_val  class  \n",
       "0  positive      1  \n",
       "1  negative      0  \n",
       "2  positive      1  \n",
       "3  negative      0  \n",
       "4  positive      1  "
      ]
     },
     "execution_count": 8,
     "metadata": {},
     "output_type": "execute_result"
    }
   ],
   "source": [
    "db.head()"
   ]
  },
  {
   "cell_type": "code",
   "execution_count": 9,
   "id": "5f8977d3",
   "metadata": {},
   "outputs": [
    {
     "data": {
      "text/html": [
       "<div>\n",
       "<style scoped>\n",
       "    .dataframe tbody tr th:only-of-type {\n",
       "        vertical-align: middle;\n",
       "    }\n",
       "\n",
       "    .dataframe tbody tr th {\n",
       "        vertical-align: top;\n",
       "    }\n",
       "\n",
       "    .dataframe thead th {\n",
       "        text-align: right;\n",
       "    }\n",
       "</style>\n",
       "<table border=\"1\" class=\"dataframe\">\n",
       "  <thead>\n",
       "    <tr style=\"text-align: right;\">\n",
       "      <th></th>\n",
       "      <th>no_preg</th>\n",
       "      <th>pg_conc</th>\n",
       "      <th>dia_bp</th>\n",
       "      <th>tri_sf_th</th>\n",
       "      <th>ser_ins</th>\n",
       "      <th>bmi</th>\n",
       "      <th>diab_ped</th>\n",
       "      <th>age</th>\n",
       "      <th>class_val</th>\n",
       "      <th>class</th>\n",
       "    </tr>\n",
       "  </thead>\n",
       "  <tbody>\n",
       "    <tr>\n",
       "      <th>763</th>\n",
       "      <td>10</td>\n",
       "      <td>101</td>\n",
       "      <td>76</td>\n",
       "      <td>48</td>\n",
       "      <td>180</td>\n",
       "      <td>32.9</td>\n",
       "      <td>0.171</td>\n",
       "      <td>63</td>\n",
       "      <td>negative</td>\n",
       "      <td>0</td>\n",
       "    </tr>\n",
       "    <tr>\n",
       "      <th>764</th>\n",
       "      <td>2</td>\n",
       "      <td>122</td>\n",
       "      <td>70</td>\n",
       "      <td>27</td>\n",
       "      <td>0</td>\n",
       "      <td>36.8</td>\n",
       "      <td>0.340</td>\n",
       "      <td>27</td>\n",
       "      <td>negative</td>\n",
       "      <td>0</td>\n",
       "    </tr>\n",
       "    <tr>\n",
       "      <th>765</th>\n",
       "      <td>5</td>\n",
       "      <td>121</td>\n",
       "      <td>72</td>\n",
       "      <td>23</td>\n",
       "      <td>112</td>\n",
       "      <td>26.2</td>\n",
       "      <td>0.245</td>\n",
       "      <td>30</td>\n",
       "      <td>negative</td>\n",
       "      <td>0</td>\n",
       "    </tr>\n",
       "    <tr>\n",
       "      <th>766</th>\n",
       "      <td>1</td>\n",
       "      <td>126</td>\n",
       "      <td>60</td>\n",
       "      <td>0</td>\n",
       "      <td>0</td>\n",
       "      <td>30.1</td>\n",
       "      <td>0.349</td>\n",
       "      <td>47</td>\n",
       "      <td>positive</td>\n",
       "      <td>1</td>\n",
       "    </tr>\n",
       "    <tr>\n",
       "      <th>767</th>\n",
       "      <td>1</td>\n",
       "      <td>93</td>\n",
       "      <td>70</td>\n",
       "      <td>31</td>\n",
       "      <td>0</td>\n",
       "      <td>30.4</td>\n",
       "      <td>0.315</td>\n",
       "      <td>23</td>\n",
       "      <td>negative</td>\n",
       "      <td>0</td>\n",
       "    </tr>\n",
       "  </tbody>\n",
       "</table>\n",
       "</div>"
      ],
      "text/plain": [
       "     no_preg  pg_conc  dia_bp  tri_sf_th  ser_ins   bmi  diab_ped  age  \\\n",
       "763       10      101      76         48      180  32.9     0.171   63   \n",
       "764        2      122      70         27        0  36.8     0.340   27   \n",
       "765        5      121      72         23      112  26.2     0.245   30   \n",
       "766        1      126      60          0        0  30.1     0.349   47   \n",
       "767        1       93      70         31        0  30.4     0.315   23   \n",
       "\n",
       "    class_val  class  \n",
       "763  negative      0  \n",
       "764  negative      0  \n",
       "765  negative      0  \n",
       "766  positive      1  \n",
       "767  negative      0  "
      ]
     },
     "execution_count": 9,
     "metadata": {},
     "output_type": "execute_result"
    }
   ],
   "source": [
    "db.tail()"
   ]
  },
  {
   "cell_type": "code",
   "execution_count": 10,
   "id": "eac4d04e",
   "metadata": {},
   "outputs": [
    {
     "data": {
      "text/plain": [
       "no_preg        int64\n",
       "pg_conc        int64\n",
       "dia_bp         int64\n",
       "tri_sf_th      int64\n",
       "ser_ins        int64\n",
       "bmi          float64\n",
       "diab_ped     float64\n",
       "age            int64\n",
       "class_val     object\n",
       "class          int64\n",
       "dtype: object"
      ]
     },
     "execution_count": 10,
     "metadata": {},
     "output_type": "execute_result"
    }
   ],
   "source": [
    "db.dtypes\n",
    "db[['class_val','class']].head(20)"
   ]
  },
  {
   "cell_type": "code",
   "execution_count": 11,
   "id": "5311d1d1",
   "metadata": {},
   "outputs": [],
   "source": [
    "db.drop(columns='class_val',inplace=True)"
   ]
  },
  {
   "cell_type": "code",
   "execution_count": 12,
   "id": "b040fcd3",
   "metadata": {},
   "outputs": [
    {
     "data": {
      "text/plain": [
       "no_preg        int64\n",
       "pg_conc        int64\n",
       "dia_bp         int64\n",
       "tri_sf_th      int64\n",
       "ser_ins        int64\n",
       "bmi          float64\n",
       "diab_ped     float64\n",
       "age            int64\n",
       "class          int64\n",
       "dtype: object"
      ]
     },
     "execution_count": 12,
     "metadata": {},
     "output_type": "execute_result"
    }
   ],
   "source": [
    "db.dtypes"
   ]
  },
  {
   "cell_type": "code",
   "execution_count": 13,
   "id": "2b612fc6",
   "metadata": {},
   "outputs": [
    {
     "data": {
      "text/html": [
       "<div>\n",
       "<style scoped>\n",
       "    .dataframe tbody tr th:only-of-type {\n",
       "        vertical-align: middle;\n",
       "    }\n",
       "\n",
       "    .dataframe tbody tr th {\n",
       "        vertical-align: top;\n",
       "    }\n",
       "\n",
       "    .dataframe thead th {\n",
       "        text-align: right;\n",
       "    }\n",
       "</style>\n",
       "<table border=\"1\" class=\"dataframe\">\n",
       "  <thead>\n",
       "    <tr style=\"text-align: right;\">\n",
       "      <th></th>\n",
       "      <th>no_preg</th>\n",
       "      <th>pg_conc</th>\n",
       "      <th>dia_bp</th>\n",
       "      <th>tri_sf_th</th>\n",
       "      <th>ser_ins</th>\n",
       "      <th>bmi</th>\n",
       "      <th>diab_ped</th>\n",
       "      <th>age</th>\n",
       "      <th>class</th>\n",
       "    </tr>\n",
       "  </thead>\n",
       "  <tbody>\n",
       "    <tr>\n",
       "      <th>0</th>\n",
       "      <td>6</td>\n",
       "      <td>148</td>\n",
       "      <td>72</td>\n",
       "      <td>35</td>\n",
       "      <td>0</td>\n",
       "      <td>33.6</td>\n",
       "      <td>0.627</td>\n",
       "      <td>50</td>\n",
       "      <td>1</td>\n",
       "    </tr>\n",
       "    <tr>\n",
       "      <th>1</th>\n",
       "      <td>1</td>\n",
       "      <td>85</td>\n",
       "      <td>66</td>\n",
       "      <td>29</td>\n",
       "      <td>0</td>\n",
       "      <td>26.6</td>\n",
       "      <td>0.351</td>\n",
       "      <td>31</td>\n",
       "      <td>0</td>\n",
       "    </tr>\n",
       "    <tr>\n",
       "      <th>2</th>\n",
       "      <td>8</td>\n",
       "      <td>183</td>\n",
       "      <td>64</td>\n",
       "      <td>0</td>\n",
       "      <td>0</td>\n",
       "      <td>23.3</td>\n",
       "      <td>0.672</td>\n",
       "      <td>32</td>\n",
       "      <td>1</td>\n",
       "    </tr>\n",
       "    <tr>\n",
       "      <th>3</th>\n",
       "      <td>1</td>\n",
       "      <td>89</td>\n",
       "      <td>66</td>\n",
       "      <td>23</td>\n",
       "      <td>94</td>\n",
       "      <td>28.1</td>\n",
       "      <td>0.167</td>\n",
       "      <td>21</td>\n",
       "      <td>0</td>\n",
       "    </tr>\n",
       "    <tr>\n",
       "      <th>4</th>\n",
       "      <td>0</td>\n",
       "      <td>137</td>\n",
       "      <td>40</td>\n",
       "      <td>35</td>\n",
       "      <td>168</td>\n",
       "      <td>43.1</td>\n",
       "      <td>2.288</td>\n",
       "      <td>33</td>\n",
       "      <td>1</td>\n",
       "    </tr>\n",
       "  </tbody>\n",
       "</table>\n",
       "</div>"
      ],
      "text/plain": [
       "   no_preg  pg_conc  dia_bp  tri_sf_th  ser_ins   bmi  diab_ped  age  class\n",
       "0        6      148      72         35        0  33.6     0.627   50      1\n",
       "1        1       85      66         29        0  26.6     0.351   31      0\n",
       "2        8      183      64          0        0  23.3     0.672   32      1\n",
       "3        1       89      66         23       94  28.1     0.167   21      0\n",
       "4        0      137      40         35      168  43.1     2.288   33      1"
      ]
     },
     "execution_count": 13,
     "metadata": {},
     "output_type": "execute_result"
    }
   ],
   "source": [
    "db.head()"
   ]
  },
  {
   "cell_type": "code",
   "execution_count": 14,
   "id": "1781ce7a",
   "metadata": {},
   "outputs": [
    {
     "data": {
      "text/plain": [
       "no_preg      0\n",
       "pg_conc      0\n",
       "dia_bp       0\n",
       "tri_sf_th    0\n",
       "ser_ins      0\n",
       "bmi          0\n",
       "diab_ped     0\n",
       "age          0\n",
       "class        0\n",
       "dtype: int64"
      ]
     },
     "execution_count": 14,
     "metadata": {},
     "output_type": "execute_result"
    }
   ],
   "source": [
    "db.isnull().sum()"
   ]
  },
  {
   "cell_type": "markdown",
   "id": "9e2162c5",
   "metadata": {},
   "source": [
    "# check the y-distribution"
   ]
  },
  {
   "cell_type": "code",
   "execution_count": 15,
   "id": "4d0ce7fb",
   "metadata": {},
   "outputs": [
    {
     "data": {
      "text/plain": [
       "0    500\n",
       "1    268\n",
       "Name: class, dtype: int64"
      ]
     },
     "execution_count": 15,
     "metadata": {},
     "output_type": "execute_result"
    }
   ],
   "source": [
    "db['class'].value_counts()"
   ]
  },
  {
   "cell_type": "markdown",
   "id": "7dd743a9",
   "metadata": {},
   "source": [
    "# Standarize the dataset"
   ]
  },
  {
   "cell_type": "code",
   "execution_count": 17,
   "id": "1f41eaee",
   "metadata": {},
   "outputs": [],
   "source": [
    "db_std = db.copy()"
   ]
  },
  {
   "cell_type": "code",
   "execution_count": 18,
   "id": "4c38a371",
   "metadata": {},
   "outputs": [],
   "source": [
    "mm = preprocessing.MinMaxScaler()"
   ]
  },
  {
   "cell_type": "code",
   "execution_count": 19,
   "id": "da8ac693",
   "metadata": {},
   "outputs": [],
   "source": [
    "db_std.iloc[:,:] = mm.fit_transform(db_std.iloc[:,:])"
   ]
  },
  {
   "cell_type": "markdown",
   "id": "78bfb4af",
   "metadata": {},
   "source": [
    "# reset the y - values"
   ]
  },
  {
   "cell_type": "code",
   "execution_count": 20,
   "id": "989b6f70",
   "metadata": {},
   "outputs": [],
   "source": [
    "db_std['class'] = db['class']"
   ]
  },
  {
   "cell_type": "markdown",
   "id": "1f1aa990",
   "metadata": {},
   "source": [
    "# compare the two data"
   ]
  },
  {
   "cell_type": "code",
   "execution_count": 21,
   "id": "6b40a2e1",
   "metadata": {},
   "outputs": [
    {
     "data": {
      "text/html": [
       "<div>\n",
       "<style scoped>\n",
       "    .dataframe tbody tr th:only-of-type {\n",
       "        vertical-align: middle;\n",
       "    }\n",
       "\n",
       "    .dataframe tbody tr th {\n",
       "        vertical-align: top;\n",
       "    }\n",
       "\n",
       "    .dataframe thead th {\n",
       "        text-align: right;\n",
       "    }\n",
       "</style>\n",
       "<table border=\"1\" class=\"dataframe\">\n",
       "  <thead>\n",
       "    <tr style=\"text-align: right;\">\n",
       "      <th></th>\n",
       "      <th>no_preg</th>\n",
       "      <th>pg_conc</th>\n",
       "      <th>dia_bp</th>\n",
       "      <th>tri_sf_th</th>\n",
       "      <th>ser_ins</th>\n",
       "      <th>bmi</th>\n",
       "      <th>diab_ped</th>\n",
       "      <th>age</th>\n",
       "      <th>class</th>\n",
       "    </tr>\n",
       "  </thead>\n",
       "  <tbody>\n",
       "    <tr>\n",
       "      <th>0</th>\n",
       "      <td>6</td>\n",
       "      <td>148</td>\n",
       "      <td>72</td>\n",
       "      <td>35</td>\n",
       "      <td>0</td>\n",
       "      <td>33.6</td>\n",
       "      <td>0.627</td>\n",
       "      <td>50</td>\n",
       "      <td>1</td>\n",
       "    </tr>\n",
       "    <tr>\n",
       "      <th>1</th>\n",
       "      <td>1</td>\n",
       "      <td>85</td>\n",
       "      <td>66</td>\n",
       "      <td>29</td>\n",
       "      <td>0</td>\n",
       "      <td>26.6</td>\n",
       "      <td>0.351</td>\n",
       "      <td>31</td>\n",
       "      <td>0</td>\n",
       "    </tr>\n",
       "    <tr>\n",
       "      <th>2</th>\n",
       "      <td>8</td>\n",
       "      <td>183</td>\n",
       "      <td>64</td>\n",
       "      <td>0</td>\n",
       "      <td>0</td>\n",
       "      <td>23.3</td>\n",
       "      <td>0.672</td>\n",
       "      <td>32</td>\n",
       "      <td>1</td>\n",
       "    </tr>\n",
       "    <tr>\n",
       "      <th>3</th>\n",
       "      <td>1</td>\n",
       "      <td>89</td>\n",
       "      <td>66</td>\n",
       "      <td>23</td>\n",
       "      <td>94</td>\n",
       "      <td>28.1</td>\n",
       "      <td>0.167</td>\n",
       "      <td>21</td>\n",
       "      <td>0</td>\n",
       "    </tr>\n",
       "    <tr>\n",
       "      <th>4</th>\n",
       "      <td>0</td>\n",
       "      <td>137</td>\n",
       "      <td>40</td>\n",
       "      <td>35</td>\n",
       "      <td>168</td>\n",
       "      <td>43.1</td>\n",
       "      <td>2.288</td>\n",
       "      <td>33</td>\n",
       "      <td>1</td>\n",
       "    </tr>\n",
       "  </tbody>\n",
       "</table>\n",
       "</div>"
      ],
      "text/plain": [
       "   no_preg  pg_conc  dia_bp  tri_sf_th  ser_ins   bmi  diab_ped  age  class\n",
       "0        6      148      72         35        0  33.6     0.627   50      1\n",
       "1        1       85      66         29        0  26.6     0.351   31      0\n",
       "2        8      183      64          0        0  23.3     0.672   32      1\n",
       "3        1       89      66         23       94  28.1     0.167   21      0\n",
       "4        0      137      40         35      168  43.1     2.288   33      1"
      ]
     },
     "execution_count": 21,
     "metadata": {},
     "output_type": "execute_result"
    }
   ],
   "source": [
    "db.head()"
   ]
  },
  {
   "cell_type": "code",
   "execution_count": 22,
   "id": "8ff3c0bb",
   "metadata": {},
   "outputs": [
    {
     "data": {
      "text/html": [
       "<div>\n",
       "<style scoped>\n",
       "    .dataframe tbody tr th:only-of-type {\n",
       "        vertical-align: middle;\n",
       "    }\n",
       "\n",
       "    .dataframe tbody tr th {\n",
       "        vertical-align: top;\n",
       "    }\n",
       "\n",
       "    .dataframe thead th {\n",
       "        text-align: right;\n",
       "    }\n",
       "</style>\n",
       "<table border=\"1\" class=\"dataframe\">\n",
       "  <thead>\n",
       "    <tr style=\"text-align: right;\">\n",
       "      <th></th>\n",
       "      <th>no_preg</th>\n",
       "      <th>pg_conc</th>\n",
       "      <th>dia_bp</th>\n",
       "      <th>tri_sf_th</th>\n",
       "      <th>ser_ins</th>\n",
       "      <th>bmi</th>\n",
       "      <th>diab_ped</th>\n",
       "      <th>age</th>\n",
       "      <th>class</th>\n",
       "    </tr>\n",
       "  </thead>\n",
       "  <tbody>\n",
       "    <tr>\n",
       "      <th>0</th>\n",
       "      <td>0.352941</td>\n",
       "      <td>0.743719</td>\n",
       "      <td>0.590164</td>\n",
       "      <td>0.353535</td>\n",
       "      <td>0.000000</td>\n",
       "      <td>0.500745</td>\n",
       "      <td>0.234415</td>\n",
       "      <td>0.483333</td>\n",
       "      <td>1</td>\n",
       "    </tr>\n",
       "    <tr>\n",
       "      <th>1</th>\n",
       "      <td>0.058824</td>\n",
       "      <td>0.427136</td>\n",
       "      <td>0.540984</td>\n",
       "      <td>0.292929</td>\n",
       "      <td>0.000000</td>\n",
       "      <td>0.396423</td>\n",
       "      <td>0.116567</td>\n",
       "      <td>0.166667</td>\n",
       "      <td>0</td>\n",
       "    </tr>\n",
       "    <tr>\n",
       "      <th>2</th>\n",
       "      <td>0.470588</td>\n",
       "      <td>0.919598</td>\n",
       "      <td>0.524590</td>\n",
       "      <td>0.000000</td>\n",
       "      <td>0.000000</td>\n",
       "      <td>0.347243</td>\n",
       "      <td>0.253629</td>\n",
       "      <td>0.183333</td>\n",
       "      <td>1</td>\n",
       "    </tr>\n",
       "    <tr>\n",
       "      <th>3</th>\n",
       "      <td>0.058824</td>\n",
       "      <td>0.447236</td>\n",
       "      <td>0.540984</td>\n",
       "      <td>0.232323</td>\n",
       "      <td>0.111111</td>\n",
       "      <td>0.418778</td>\n",
       "      <td>0.038002</td>\n",
       "      <td>0.000000</td>\n",
       "      <td>0</td>\n",
       "    </tr>\n",
       "    <tr>\n",
       "      <th>4</th>\n",
       "      <td>0.000000</td>\n",
       "      <td>0.688442</td>\n",
       "      <td>0.327869</td>\n",
       "      <td>0.353535</td>\n",
       "      <td>0.198582</td>\n",
       "      <td>0.642325</td>\n",
       "      <td>0.943638</td>\n",
       "      <td>0.200000</td>\n",
       "      <td>1</td>\n",
       "    </tr>\n",
       "  </tbody>\n",
       "</table>\n",
       "</div>"
      ],
      "text/plain": [
       "    no_preg   pg_conc    dia_bp  tri_sf_th   ser_ins       bmi  diab_ped  \\\n",
       "0  0.352941  0.743719  0.590164   0.353535  0.000000  0.500745  0.234415   \n",
       "1  0.058824  0.427136  0.540984   0.292929  0.000000  0.396423  0.116567   \n",
       "2  0.470588  0.919598  0.524590   0.000000  0.000000  0.347243  0.253629   \n",
       "3  0.058824  0.447236  0.540984   0.232323  0.111111  0.418778  0.038002   \n",
       "4  0.000000  0.688442  0.327869   0.353535  0.198582  0.642325  0.943638   \n",
       "\n",
       "        age  class  \n",
       "0  0.483333      1  \n",
       "1  0.166667      0  \n",
       "2  0.183333      1  \n",
       "3  0.000000      0  \n",
       "4  0.200000      1  "
      ]
     },
     "execution_count": 22,
     "metadata": {},
     "output_type": "execute_result"
    }
   ],
   "source": [
    "db_std.head()"
   ]
  },
  {
   "cell_type": "markdown",
   "id": "55d4977d",
   "metadata": {},
   "source": [
    "# Split the data into train and test"
   ]
  },
  {
   "cell_type": "code",
   "execution_count": 23,
   "id": "51e244bd",
   "metadata": {},
   "outputs": [],
   "source": [
    "trainx,testx,trainy,testy = train_test_split(db_std.drop('class',1),db_std['class'],test_size=0.25) "
   ]
  },
  {
   "cell_type": "code",
   "execution_count": 24,
   "id": "ebf85386",
   "metadata": {},
   "outputs": [
    {
     "data": {
      "text/plain": [
       "((576, 8), (576,))"
      ]
     },
     "execution_count": 24,
     "metadata": {},
     "output_type": "execute_result"
    }
   ],
   "source": [
    "trainx.shape,trainy.shape"
   ]
  },
  {
   "cell_type": "code",
   "execution_count": 25,
   "id": "9767471e",
   "metadata": {},
   "outputs": [
    {
     "data": {
      "text/plain": [
       "((192, 8), (192,))"
      ]
     },
     "execution_count": 25,
     "metadata": {},
     "output_type": "execute_result"
    }
   ],
   "source": [
    "testx.shape,testy.shape"
   ]
  },
  {
   "cell_type": "markdown",
   "id": "e4332030",
   "metadata": {},
   "source": [
    "# List of kernels supported by svm"
   ]
  },
  {
   "cell_type": "markdown",
   "id": "c35f9a8a",
   "metadata": {},
   "source": [
    "# linear (C), sigmoid(C + Gamma), polynomial(C + Gamma), rbf(radial-basis-function)(C + Gamma)"
   ]
  },
  {
   "cell_type": "markdown",
   "id": "7e9e31d0",
   "metadata": {},
   "source": [
    "# tuning the C and Gamma parameter with initial values"
   ]
  },
  {
   "cell_type": "markdown",
   "id": "3631056d",
   "metadata": {},
   "source": [
    "# values can be tunned later on depending upon the model accuracy"
   ]
  },
  {
   "cell_type": "code",
   "execution_count": 26,
   "id": "34dbb8ff",
   "metadata": {},
   "outputs": [],
   "source": [
    "list_c = np.logspace(-5,4,10)"
   ]
  },
  {
   "cell_type": "code",
   "execution_count": 27,
   "id": "195facb7",
   "metadata": {},
   "outputs": [
    {
     "name": "stdout",
     "output_type": "stream",
     "text": [
      "[1.e-05 1.e-04 1.e-03 1.e-02 1.e-01 1.e+00 1.e+01 1.e+02 1.e+03 1.e+04]\n"
     ]
    }
   ],
   "source": [
    "print(list_c)"
   ]
  },
  {
   "cell_type": "code",
   "execution_count": 28,
   "id": "1eb363d5",
   "metadata": {},
   "outputs": [],
   "source": [
    "list_G = np.random.uniform(0,1,10)"
   ]
  },
  {
   "cell_type": "code",
   "execution_count": 29,
   "id": "210b8256",
   "metadata": {},
   "outputs": [
    {
     "name": "stdout",
     "output_type": "stream",
     "text": [
      "[0.56594568 0.88403882 0.24962521 0.27287426 0.9946176  0.76242694\n",
      " 0.21526744 0.01271798 0.42250516 0.19414984]\n"
     ]
    }
   ],
   "source": [
    "print(list_G)"
   ]
  },
  {
   "cell_type": "markdown",
   "id": "433f8801",
   "metadata": {},
   "source": [
    "# build the parameters "
   ]
  },
  {
   "cell_type": "code",
   "execution_count": 45,
   "id": "cabf9800",
   "metadata": {},
   "outputs": [],
   "source": [
    "params = [{'kernel':['linear'],'C':list_c,\n",
    "           'kernel':['sigmoid'],'C':list_c, 'gamma':list_G,\n",
    "           'kernel':['poly'],'C':list_c, 'gamma':list_G, \n",
    "           'kernel':['rbf'],'C':list_c,'gamma':list_G}]"
   ]
  },
  {
   "cell_type": "code",
   "execution_count": 46,
   "id": "d0f25a62",
   "metadata": {},
   "outputs": [],
   "source": [
    "model = svm.SVC()"
   ]
  },
  {
   "cell_type": "code",
   "execution_count": 47,
   "id": "b4065de3",
   "metadata": {},
   "outputs": [],
   "source": [
    "grid = GridSearchCV(model, param_grid=params, scoring='accuracy', cv=10, n_jobs=-1).fit(trainx,trainy)"
   ]
  },
  {
   "cell_type": "markdown",
   "id": "febd338f",
   "metadata": {},
   "source": [
    "# Best parameters"
   ]
  },
  {
   "cell_type": "code",
   "execution_count": 48,
   "id": "a3345d0c",
   "metadata": {},
   "outputs": [],
   "source": [
    "bp = grid.best_params_"
   ]
  },
  {
   "cell_type": "markdown",
   "id": "c8bce81c",
   "metadata": {},
   "source": [
    "# build the SVM classifier using the best params from cv"
   ]
  },
  {
   "cell_type": "code",
   "execution_count": 49,
   "id": "7d8cef45",
   "metadata": {},
   "outputs": [],
   "source": [
    "m1 = svm.SVC(kernel=bp['kernel'], C=bp['C'], gamma=bp['gamma']).fit(trainx,trainy)"
   ]
  },
  {
   "cell_type": "markdown",
   "id": "6767bf28",
   "metadata": {},
   "source": [
    "# Prediction"
   ]
  },
  {
   "cell_type": "code",
   "execution_count": 50,
   "id": "1b418f26",
   "metadata": {},
   "outputs": [],
   "source": [
    "p1 = m1.predict(testx)"
   ]
  },
  {
   "cell_type": "markdown",
   "id": "f5009a65",
   "metadata": {},
   "source": [
    "# model accuracy"
   ]
  },
  {
   "cell_type": "code",
   "execution_count": 51,
   "id": "d6a99aa3",
   "metadata": {},
   "outputs": [
    {
     "data": {
      "text/plain": [
       "0.7708333333333334"
      ]
     },
     "execution_count": 51,
     "metadata": {},
     "output_type": "execute_result"
    }
   ],
   "source": [
    "accuracy_score(testy,p1)"
   ]
  },
  {
   "cell_type": "markdown",
   "id": "f4f7ffb7",
   "metadata": {},
   "source": [
    "# function to print the confusion matrix / classification report "
   ]
  },
  {
   "cell_type": "code",
   "execution_count": 52,
   "id": "2644aaf7",
   "metadata": {},
   "outputs": [],
   "source": [
    "def cm(actual,pred):\n",
    "    df = pd.DataFrame({'actual':actual,'pred':pred})\n",
    "    print(pd.crosstab(df.actual,df.pred,margins=True))\n",
    "    \n",
    "    print(classification_report(actual,pred))\n",
    "    return('success')"
   ]
  },
  {
   "cell_type": "markdown",
   "id": "aae1255e",
   "metadata": {},
   "source": [
    "# print confusion matrix"
   ]
  },
  {
   "cell_type": "code",
   "execution_count": 53,
   "id": "c7322a8f",
   "metadata": {},
   "outputs": [
    {
     "name": "stdout",
     "output_type": "stream",
     "text": [
      "pred      0   1  All\n",
      "actual              \n",
      "0       112  12  124\n",
      "1        32  36   68\n",
      "All     144  48  192\n",
      "              precision    recall  f1-score   support\n",
      "\n",
      "           0       0.78      0.90      0.84       124\n",
      "           1       0.75      0.53      0.62        68\n",
      "\n",
      "    accuracy                           0.77       192\n",
      "   macro avg       0.76      0.72      0.73       192\n",
      "weighted avg       0.77      0.77      0.76       192\n",
      "\n"
     ]
    },
    {
     "data": {
      "text/plain": [
       "'success'"
      ]
     },
     "execution_count": 53,
     "metadata": {},
     "output_type": "execute_result"
    }
   ],
   "source": [
    "cm(testy,p1)"
   ]
  },
  {
   "cell_type": "markdown",
   "id": "be5d3845",
   "metadata": {},
   "source": [
    "# model 2 = using the svm.LinearSVC model"
   ]
  },
  {
   "cell_type": "code",
   "execution_count": 54,
   "id": "d1087aa1",
   "metadata": {},
   "outputs": [],
   "source": [
    "m2 = svm.LinearSVC(C=bp['C'],max_iter=10000).fit(trainx,trainy)"
   ]
  },
  {
   "cell_type": "code",
   "execution_count": 55,
   "id": "907ef4f3",
   "metadata": {},
   "outputs": [],
   "source": [
    "p2 = m2.predict(testx)"
   ]
  },
  {
   "cell_type": "markdown",
   "id": "48ef2c1d",
   "metadata": {},
   "source": [
    "# model accuracy"
   ]
  },
  {
   "cell_type": "code",
   "execution_count": 56,
   "id": "b8c0d271",
   "metadata": {},
   "outputs": [
    {
     "data": {
      "text/plain": [
       "0.78125"
      ]
     },
     "execution_count": 56,
     "metadata": {},
     "output_type": "execute_result"
    }
   ],
   "source": [
    "accuracy_score(testy,p2)"
   ]
  },
  {
   "cell_type": "markdown",
   "id": "876ba0a0",
   "metadata": {},
   "source": [
    "# Confusion matrix"
   ]
  },
  {
   "cell_type": "code",
   "execution_count": 57,
   "id": "9ecaf5e6",
   "metadata": {},
   "outputs": [
    {
     "name": "stdout",
     "output_type": "stream",
     "text": [
      "pred      0   1  All\n",
      "actual              \n",
      "0       109  15  124\n",
      "1        27  41   68\n",
      "All     136  56  192\n",
      "              precision    recall  f1-score   support\n",
      "\n",
      "           0       0.80      0.88      0.84       124\n",
      "           1       0.73      0.60      0.66        68\n",
      "\n",
      "    accuracy                           0.78       192\n",
      "   macro avg       0.77      0.74      0.75       192\n",
      "weighted avg       0.78      0.78      0.78       192\n",
      "\n"
     ]
    },
    {
     "data": {
      "text/plain": [
       "'success'"
      ]
     },
     "execution_count": 57,
     "metadata": {},
     "output_type": "execute_result"
    }
   ],
   "source": [
    "cm(testy,p2)"
   ]
  },
  {
   "cell_type": "markdown",
   "id": "c706f569",
   "metadata": {},
   "source": [
    "# try and fix the 0 in data and rebuild the model\n",
    "# try Logistics, DT, RF, KNN, SVM"
   ]
  },
  {
   "cell_type": "code",
   "execution_count": null,
   "id": "47595525",
   "metadata": {},
   "outputs": [],
   "source": []
  }
 ],
 "metadata": {
  "kernelspec": {
   "display_name": "Python 3",
   "language": "python",
   "name": "python3"
  },
  "language_info": {
   "codemirror_mode": {
    "name": "ipython",
    "version": 3
   },
   "file_extension": ".py",
   "mimetype": "text/x-python",
   "name": "python",
   "nbconvert_exporter": "python",
   "pygments_lexer": "ipython3",
   "version": "3.8.8"
  }
 },
 "nbformat": 4,
 "nbformat_minor": 5
}
